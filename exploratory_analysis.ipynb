{
 "cells": [
  {
   "cell_type": "code",
   "execution_count": 53,
   "id": "32547658",
   "metadata": {},
   "outputs": [],
   "source": [
    "import pandas as pd"
   ]
  },
  {
   "cell_type": "code",
   "execution_count": 54,
   "id": "81191ae2",
   "metadata": {},
   "outputs": [
    {
     "name": "stdout",
     "output_type": "stream",
     "text": [
      "Warning: Looks like you're using an outdated `kagglehub` version, please consider updating (latest version: 0.3.12)\n",
      "Path to dataset files: C:\\Users\\yania\\.cache\\kagglehub\\datasets\\susanta21\\canteen-shop-transaction-data\\versions\\1\n"
     ]
    }
   ],
   "source": [
    "import kagglehub\n",
    "path = kagglehub.dataset_download(\"susanta21/canteen-shop-transaction-data\")\n",
    "print(\"Path to dataset files:\", path)"
   ]
  },
  {
   "cell_type": "code",
   "execution_count": 55,
   "id": "59c351c9",
   "metadata": {},
   "outputs": [
    {
     "name": "stdout",
     "output_type": "stream",
     "text": [
      "   menu_item_id      item_name  category  price\n",
      "0           101      Hamburger  American  12.95\n",
      "1           102   Cheeseburger  American  13.95\n",
      "2           103        Hot Dog  American   9.00\n",
      "3           104  Veggie Burger  American  10.50\n",
      "4           105   Mac & Cheese  American   7.00\n",
      "   order_details_id  order_id order_date   order_time  item_id\n",
      "0                 1         1     1/1/23  11:38:36 AM    109.0\n",
      "1                 2         2     1/1/23  11:57:40 AM    108.0\n",
      "2                 3         2     1/1/23  11:57:40 AM    124.0\n",
      "3                 4         2     1/1/23  11:57:40 AM    117.0\n",
      "4                 5         2     1/1/23  11:57:40 AM    129.0\n"
     ]
    }
   ],
   "source": [
    "menu = pd.read_csv(\"Restaurant_Orders/menu_items.csv\")\n",
    "print(menu.head())\n",
    "\n",
    "order_details = pd.read_csv(\"Restaurant_Orders/order_details.csv\")\n",
    "print(order_details.head())"
   ]
  },
  {
   "cell_type": "code",
   "execution_count": 56,
   "id": "9b23d2a7",
   "metadata": {},
   "outputs": [
    {
     "name": "stdout",
     "output_type": "stream",
     "text": [
      "<class 'pandas.core.frame.DataFrame'>\n",
      "RangeIndex: 32 entries, 0 to 31\n",
      "Data columns (total 4 columns):\n",
      " #   Column        Non-Null Count  Dtype  \n",
      "---  ------        --------------  -----  \n",
      " 0   menu_item_id  32 non-null     int64  \n",
      " 1   item_name     32 non-null     object \n",
      " 2   category      32 non-null     object \n",
      " 3   price         32 non-null     float64\n",
      "dtypes: float64(1), int64(1), object(2)\n",
      "memory usage: 1.1+ KB\n",
      "None\n",
      "<class 'pandas.core.frame.DataFrame'>\n",
      "RangeIndex: 12234 entries, 0 to 12233\n",
      "Data columns (total 5 columns):\n",
      " #   Column            Non-Null Count  Dtype  \n",
      "---  ------            --------------  -----  \n",
      " 0   order_details_id  12234 non-null  int64  \n",
      " 1   order_id          12234 non-null  int64  \n",
      " 2   order_date        12234 non-null  object \n",
      " 3   order_time        12234 non-null  object \n",
      " 4   item_id           12097 non-null  float64\n",
      "dtypes: float64(1), int64(2), object(2)\n",
      "memory usage: 478.0+ KB\n",
      "None\n"
     ]
    }
   ],
   "source": [
    "print(menu.info())\n",
    "print(order_details.info())"
   ]
  },
  {
   "cell_type": "code",
   "execution_count": 57,
   "id": "2bb7efa4",
   "metadata": {},
   "outputs": [
    {
     "name": "stdout",
     "output_type": "stream",
     "text": [
      "menu_item_id    0\n",
      "item_name       0\n",
      "category        0\n",
      "price           0\n",
      "dtype: int64\n",
      "order_details_id      0\n",
      "order_id              0\n",
      "order_date            0\n",
      "order_time            0\n",
      "item_id             137\n",
      "dtype: int64\n"
     ]
    }
   ],
   "source": [
    "print(menu.isnull().sum())\n",
    "print(order_details.isnull().sum())"
   ]
  },
  {
   "cell_type": "code",
   "execution_count": 58,
   "id": "5c1d2b7e",
   "metadata": {},
   "outputs": [
    {
     "data": {
      "text/html": [
       "<div>\n",
       "<style scoped>\n",
       "    .dataframe tbody tr th:only-of-type {\n",
       "        vertical-align: middle;\n",
       "    }\n",
       "\n",
       "    .dataframe tbody tr th {\n",
       "        vertical-align: top;\n",
       "    }\n",
       "\n",
       "    .dataframe thead th {\n",
       "        text-align: right;\n",
       "    }\n",
       "</style>\n",
       "<table border=\"1\" class=\"dataframe\">\n",
       "  <thead>\n",
       "    <tr style=\"text-align: right;\">\n",
       "      <th></th>\n",
       "      <th>menu_item_id</th>\n",
       "      <th>item_name</th>\n",
       "      <th>category</th>\n",
       "      <th>price</th>\n",
       "      <th>item_id</th>\n",
       "    </tr>\n",
       "  </thead>\n",
       "  <tbody>\n",
       "    <tr>\n",
       "      <th>0</th>\n",
       "      <td>101</td>\n",
       "      <td>Hamburger</td>\n",
       "      <td>American</td>\n",
       "      <td>12.95</td>\n",
       "      <td>101</td>\n",
       "    </tr>\n",
       "    <tr>\n",
       "      <th>1</th>\n",
       "      <td>102</td>\n",
       "      <td>Cheeseburger</td>\n",
       "      <td>American</td>\n",
       "      <td>13.95</td>\n",
       "      <td>102</td>\n",
       "    </tr>\n",
       "    <tr>\n",
       "      <th>2</th>\n",
       "      <td>103</td>\n",
       "      <td>Hot Dog</td>\n",
       "      <td>American</td>\n",
       "      <td>9.00</td>\n",
       "      <td>103</td>\n",
       "    </tr>\n",
       "    <tr>\n",
       "      <th>3</th>\n",
       "      <td>104</td>\n",
       "      <td>Veggie Burger</td>\n",
       "      <td>American</td>\n",
       "      <td>10.50</td>\n",
       "      <td>104</td>\n",
       "    </tr>\n",
       "    <tr>\n",
       "      <th>4</th>\n",
       "      <td>105</td>\n",
       "      <td>Mac &amp; Cheese</td>\n",
       "      <td>American</td>\n",
       "      <td>7.00</td>\n",
       "      <td>105</td>\n",
       "    </tr>\n",
       "  </tbody>\n",
       "</table>\n",
       "</div>"
      ],
      "text/plain": [
       "   menu_item_id      item_name  category  price  item_id\n",
       "0           101      Hamburger  American  12.95      101\n",
       "1           102   Cheeseburger  American  13.95      102\n",
       "2           103        Hot Dog  American   9.00      103\n",
       "3           104  Veggie Burger  American  10.50      104\n",
       "4           105   Mac & Cheese  American   7.00      105"
      ]
     },
     "execution_count": 58,
     "metadata": {},
     "output_type": "execute_result"
    }
   ],
   "source": [
    "menu[\"item_id\"] = menu[\"menu_item_id\"]\n",
    "menu.head()"
   ]
  },
  {
   "cell_type": "code",
   "execution_count": 59,
   "id": "f35399a6",
   "metadata": {},
   "outputs": [
    {
     "data": {
      "text/html": [
       "<div>\n",
       "<style scoped>\n",
       "    .dataframe tbody tr th:only-of-type {\n",
       "        vertical-align: middle;\n",
       "    }\n",
       "\n",
       "    .dataframe tbody tr th {\n",
       "        vertical-align: top;\n",
       "    }\n",
       "\n",
       "    .dataframe thead th {\n",
       "        text-align: right;\n",
       "    }\n",
       "</style>\n",
       "<table border=\"1\" class=\"dataframe\">\n",
       "  <thead>\n",
       "    <tr style=\"text-align: right;\">\n",
       "      <th></th>\n",
       "      <th>order_details_id</th>\n",
       "      <th>order_id</th>\n",
       "      <th>order_date</th>\n",
       "      <th>order_time</th>\n",
       "      <th>item_id</th>\n",
       "      <th>menu_item_id</th>\n",
       "      <th>item_name</th>\n",
       "      <th>category</th>\n",
       "      <th>price</th>\n",
       "    </tr>\n",
       "  </thead>\n",
       "  <tbody>\n",
       "    <tr>\n",
       "      <th>0</th>\n",
       "      <td>1</td>\n",
       "      <td>1</td>\n",
       "      <td>1/1/23</td>\n",
       "      <td>11:38:36 AM</td>\n",
       "      <td>109.0</td>\n",
       "      <td>109.0</td>\n",
       "      <td>Korean Beef Bowl</td>\n",
       "      <td>Asian</td>\n",
       "      <td>17.95</td>\n",
       "    </tr>\n",
       "    <tr>\n",
       "      <th>1</th>\n",
       "      <td>2</td>\n",
       "      <td>2</td>\n",
       "      <td>1/1/23</td>\n",
       "      <td>11:57:40 AM</td>\n",
       "      <td>108.0</td>\n",
       "      <td>108.0</td>\n",
       "      <td>Tofu Pad Thai</td>\n",
       "      <td>Asian</td>\n",
       "      <td>14.50</td>\n",
       "    </tr>\n",
       "    <tr>\n",
       "      <th>2</th>\n",
       "      <td>3</td>\n",
       "      <td>2</td>\n",
       "      <td>1/1/23</td>\n",
       "      <td>11:57:40 AM</td>\n",
       "      <td>124.0</td>\n",
       "      <td>124.0</td>\n",
       "      <td>Spaghetti</td>\n",
       "      <td>Italian</td>\n",
       "      <td>14.50</td>\n",
       "    </tr>\n",
       "    <tr>\n",
       "      <th>3</th>\n",
       "      <td>4</td>\n",
       "      <td>2</td>\n",
       "      <td>1/1/23</td>\n",
       "      <td>11:57:40 AM</td>\n",
       "      <td>117.0</td>\n",
       "      <td>117.0</td>\n",
       "      <td>Chicken Burrito</td>\n",
       "      <td>Mexican</td>\n",
       "      <td>12.95</td>\n",
       "    </tr>\n",
       "    <tr>\n",
       "      <th>4</th>\n",
       "      <td>5</td>\n",
       "      <td>2</td>\n",
       "      <td>1/1/23</td>\n",
       "      <td>11:57:40 AM</td>\n",
       "      <td>129.0</td>\n",
       "      <td>129.0</td>\n",
       "      <td>Mushroom Ravioli</td>\n",
       "      <td>Italian</td>\n",
       "      <td>15.50</td>\n",
       "    </tr>\n",
       "  </tbody>\n",
       "</table>\n",
       "</div>"
      ],
      "text/plain": [
       "   order_details_id  order_id order_date   order_time  item_id  menu_item_id  \\\n",
       "0                 1         1     1/1/23  11:38:36 AM    109.0         109.0   \n",
       "1                 2         2     1/1/23  11:57:40 AM    108.0         108.0   \n",
       "2                 3         2     1/1/23  11:57:40 AM    124.0         124.0   \n",
       "3                 4         2     1/1/23  11:57:40 AM    117.0         117.0   \n",
       "4                 5         2     1/1/23  11:57:40 AM    129.0         129.0   \n",
       "\n",
       "          item_name category  price  \n",
       "0  Korean Beef Bowl    Asian  17.95  \n",
       "1     Tofu Pad Thai    Asian  14.50  \n",
       "2         Spaghetti  Italian  14.50  \n",
       "3   Chicken Burrito  Mexican  12.95  \n",
       "4  Mushroom Ravioli  Italian  15.50  "
      ]
     },
     "execution_count": 59,
     "metadata": {},
     "output_type": "execute_result"
    }
   ],
   "source": [
    "merged_df = pd.merge(order_details, menu, on=\"item_id\", how=\"left\")\n",
    "merged_df.head()"
   ]
  },
  {
   "cell_type": "code",
   "execution_count": 60,
   "id": "d44007a9",
   "metadata": {},
   "outputs": [
    {
     "data": {
      "text/plain": [
       "order_details_id    0\n",
       "order_id            0\n",
       "order_date          0\n",
       "order_time          0\n",
       "item_id             0\n",
       "menu_item_id        0\n",
       "item_name           0\n",
       "category            0\n",
       "price               0\n",
       "dtype: int64"
      ]
     },
     "execution_count": 60,
     "metadata": {},
     "output_type": "execute_result"
    }
   ],
   "source": [
    "empty_orders = merged_df[merged_df[\"item_id\"].isnull()]\n",
    "merged_df.dropna(inplace=True)\n",
    "merged_df.isnull().sum()"
   ]
  },
  {
   "cell_type": "code",
   "execution_count": 61,
   "id": "21d3a0f6",
   "metadata": {},
   "outputs": [],
   "source": [
    "import matplotlib.pyplot as plt\n",
    "import seaborn as sns"
   ]
  },
  {
   "cell_type": "code",
   "execution_count": 62,
   "id": "967a8030",
   "metadata": {},
   "outputs": [
    {
     "name": "stdout",
     "output_type": "stream",
     "text": [
      " date data type:  {<class 'pandas._libs.tslibs.timestamps.Timestamp'>}\n"
     ]
    }
   ],
   "source": [
    "merged_df['order_date'] = pd.to_datetime(merged_df['order_date'], format = 'mixed')\n",
    "print(f' date data type: ',{type(merged_df[\"order_date\"][1])})\n"
   ]
  },
  {
   "cell_type": "code",
   "execution_count": 63,
   "id": "70a61765",
   "metadata": {},
   "outputs": [
    {
     "name": "stdout",
     "output_type": "stream",
     "text": [
      " time data type:  {<class 'datetime.time'>}\n"
     ]
    }
   ],
   "source": [
    "merged_df['order_time'] = pd.to_datetime(merged_df['order_time'], format = 'mixed').dt.time\n",
    "print(f' time data type: ',{type(merged_df[\"order_time\"][1])})"
   ]
  },
  {
   "cell_type": "code",
   "execution_count": 64,
   "id": "e8774fbb",
   "metadata": {},
   "outputs": [],
   "source": [
    "merged_df['time_seconds'] = merged_df['order_time'].apply(lambda x: x.hour * 3600 + x.minute * 60 + x.second)"
   ]
  },
  {
   "cell_type": "code",
   "execution_count": 65,
   "id": "ff0952a0",
   "metadata": {},
   "outputs": [
    {
     "data": {
      "text/plain": [
       "\"merged_df['time_bucket'] =merged_df['time_seconds'].apply(\\n    lambda x: 'Breakfast' if 6 * 3600 <= x < 11 * 3600 else\\n              'Lunch' if 11 * 3600 <= x < 16 * 3600 else\\n              'Evening' if 16 * 3600 <= x < 20 * 3600 else\\n              'Night'\\n)\\nprint(merged_df['time_bucket'].value_counts())\""
      ]
     },
     "execution_count": 65,
     "metadata": {},
     "output_type": "execute_result"
    }
   ],
   "source": [
    "'''merged_df['time_bucket'] =merged_df['time_seconds'].apply(\n",
    "    lambda x: 'Breakfast' if 6 * 3600 <= x < 11 * 3600 else\n",
    "              'Lunch' if 11 * 3600 <= x < 16 * 3600 else\n",
    "              'Evening' if 16 * 3600 <= x < 20 * 3600 else\n",
    "              'Night'\n",
    ")\n",
    "print(merged_df['time_bucket'].value_counts())'''"
   ]
  },
  {
   "cell_type": "code",
   "execution_count": 69,
   "id": "c8290cc3",
   "metadata": {},
   "outputs": [
    {
     "name": "stdout",
     "output_type": "stream",
     "text": [
      "time_bucket\n",
      "12:00-13:00    1658\n",
      "13:00-14:00    1566\n",
      "17:00-18:00    1355\n",
      "18:00-19:00    1293\n",
      "19:00-20:00    1074\n",
      "16:00-17:00    1035\n",
      "14:00-15:00     949\n",
      "20:00-21:00     879\n",
      "15:00-16:00     742\n",
      "11:00-12:00     625\n",
      "21:00-22:00     600\n",
      "22:00-23:00     305\n",
      "23:00-24:00      11\n",
      "10:00-11:00       5\n",
      "Name: count, dtype: int64\n"
     ]
    }
   ],
   "source": [
    "merged_df['time_bucket'] =merged_df['time_seconds'].apply(\n",
    "    lambda x: '0:00-1:00' if x <= 1 * 3600 else\n",
    "            '1:00-2:00' if 1 * 3600 < x <= 2 * 3600 else\n",
    "            '2:00-3:00' if 2 * 3600 < x <= 3 * 3600 else\n",
    "            '3:00-4:00' if 3 * 3600 < x <= 4 * 3600 else\n",
    "            '4:00-5:00' if 4 * 3600 < x <= 5 * 3600 else\n",
    "            '5:00-6:00' if 5 * 3600 < x <= 6 * 3600 else\n",
    "            '6:00-7:00' if 6 * 3600 < x <= 7 * 3600 else\n",
    "            '7:00-8:00' if 7 * 3600 < x <= 8 * 3600 else\n",
    "            '8:00-9:00' if 8 * 3600 < x <= 9 * 3600 else\n",
    "            '9:00-10:00' if 9 * 3600 < x <= 10 * 3600 else\n",
    "            '10:00-11:00' if 10 * 3600 < x <= 11 * 3600 else\n",
    "            '11:00-12:00' if 11 * 3600 < x <= 12 * 3600 else\n",
    "            '12:00-13:00' if 12 * 3600 < x <= 13 * 3600 else\n",
    "            '13:00-14:00' if 13 * 3600 < x <= 14 * 3600 else\n",
    "            '14:00-15:00' if 14 * 3600 < x <= 15 * 3600 else\n",
    "            '15:00-16:00' if 15 * 3600 < x <= 16 * 3600 else\n",
    "            '16:00-17:00' if 16 * 3600 < x <= 17 * 3600 else\n",
    "            '17:00-18:00' if 17 * 3600 < x <= 18 * 3600 else\n",
    "            '18:00-19:00' if 18 * 3600 < x <= 19 * 3600 else\n",
    "            '19:00-20:00' if 19 * 3600 < x <= 20 * 3600 else\n",
    "            '20:00-21:00' if 20 * 3600 < x <= 21 * 3600 else\n",
    "            '21:00-22:00' if 21 * 3600 < x <= 22 * 3600 else\n",
    "            '22:00-23:00' if 22 * 3600 < x <= 23 * 3600 else\n",
    "            '23:00-24:00'\n",
    ")\n",
    "print(merged_df['time_bucket'].value_counts())"
   ]
  },
  {
   "cell_type": "code",
   "execution_count": 70,
   "id": "fd062367",
   "metadata": {},
   "outputs": [
    {
     "data": {
      "text/html": [
       "<div>\n",
       "<style scoped>\n",
       "    .dataframe tbody tr th:only-of-type {\n",
       "        vertical-align: middle;\n",
       "    }\n",
       "\n",
       "    .dataframe tbody tr th {\n",
       "        vertical-align: top;\n",
       "    }\n",
       "\n",
       "    .dataframe thead th {\n",
       "        text-align: right;\n",
       "    }\n",
       "</style>\n",
       "<table border=\"1\" class=\"dataframe\">\n",
       "  <thead>\n",
       "    <tr style=\"text-align: right;\">\n",
       "      <th></th>\n",
       "      <th>order_details_id</th>\n",
       "      <th>order_id</th>\n",
       "      <th>order_date</th>\n",
       "      <th>order_time</th>\n",
       "      <th>item_id</th>\n",
       "      <th>menu_item_id</th>\n",
       "      <th>item_name</th>\n",
       "      <th>category</th>\n",
       "      <th>price</th>\n",
       "      <th>time_seconds</th>\n",
       "      <th>time_bucket</th>\n",
       "    </tr>\n",
       "  </thead>\n",
       "  <tbody>\n",
       "    <tr>\n",
       "      <th>150</th>\n",
       "      <td>151</td>\n",
       "      <td>65</td>\n",
       "      <td>2023-01-01</td>\n",
       "      <td>21:16:00</td>\n",
       "      <td>112.0</td>\n",
       "      <td>112.0</td>\n",
       "      <td>Salmon Roll</td>\n",
       "      <td>Asian</td>\n",
       "      <td>14.95</td>\n",
       "      <td>76560</td>\n",
       "      <td>21:00-22:00</td>\n",
       "    </tr>\n",
       "    <tr>\n",
       "      <th>151</th>\n",
       "      <td>152</td>\n",
       "      <td>65</td>\n",
       "      <td>2023-01-01</td>\n",
       "      <td>21:16:00</td>\n",
       "      <td>120.0</td>\n",
       "      <td>120.0</td>\n",
       "      <td>Steak Torta</td>\n",
       "      <td>Mexican</td>\n",
       "      <td>13.95</td>\n",
       "      <td>76560</td>\n",
       "      <td>21:00-22:00</td>\n",
       "    </tr>\n",
       "    <tr>\n",
       "      <th>152</th>\n",
       "      <td>153</td>\n",
       "      <td>65</td>\n",
       "      <td>2023-01-01</td>\n",
       "      <td>21:16:00</td>\n",
       "      <td>122.0</td>\n",
       "      <td>122.0</td>\n",
       "      <td>Chips &amp; Salsa</td>\n",
       "      <td>Mexican</td>\n",
       "      <td>7.00</td>\n",
       "      <td>76560</td>\n",
       "      <td>21:00-22:00</td>\n",
       "    </tr>\n",
       "    <tr>\n",
       "      <th>153</th>\n",
       "      <td>154</td>\n",
       "      <td>65</td>\n",
       "      <td>2023-01-01</td>\n",
       "      <td>21:16:00</td>\n",
       "      <td>123.0</td>\n",
       "      <td>123.0</td>\n",
       "      <td>Chips &amp; Guacamole</td>\n",
       "      <td>Mexican</td>\n",
       "      <td>9.00</td>\n",
       "      <td>76560</td>\n",
       "      <td>21:00-22:00</td>\n",
       "    </tr>\n",
       "    <tr>\n",
       "      <th>154</th>\n",
       "      <td>155</td>\n",
       "      <td>66</td>\n",
       "      <td>2023-01-01</td>\n",
       "      <td>21:47:55</td>\n",
       "      <td>108.0</td>\n",
       "      <td>108.0</td>\n",
       "      <td>Tofu Pad Thai</td>\n",
       "      <td>Asian</td>\n",
       "      <td>14.50</td>\n",
       "      <td>78475</td>\n",
       "      <td>21:00-22:00</td>\n",
       "    </tr>\n",
       "    <tr>\n",
       "      <th>...</th>\n",
       "      <td>...</td>\n",
       "      <td>...</td>\n",
       "      <td>...</td>\n",
       "      <td>...</td>\n",
       "      <td>...</td>\n",
       "      <td>...</td>\n",
       "      <td>...</td>\n",
       "      <td>...</td>\n",
       "      <td>...</td>\n",
       "      <td>...</td>\n",
       "      <td>...</td>\n",
       "    </tr>\n",
       "    <tr>\n",
       "      <th>12224</th>\n",
       "      <td>12225</td>\n",
       "      <td>5367</td>\n",
       "      <td>2023-03-31</td>\n",
       "      <td>21:58:06</td>\n",
       "      <td>119.0</td>\n",
       "      <td>119.0</td>\n",
       "      <td>Chicken Torta</td>\n",
       "      <td>Mexican</td>\n",
       "      <td>11.95</td>\n",
       "      <td>79086</td>\n",
       "      <td>21:00-22:00</td>\n",
       "    </tr>\n",
       "    <tr>\n",
       "      <th>12225</th>\n",
       "      <td>12226</td>\n",
       "      <td>5368</td>\n",
       "      <td>2023-03-31</td>\n",
       "      <td>21:58:47</td>\n",
       "      <td>101.0</td>\n",
       "      <td>101.0</td>\n",
       "      <td>Hamburger</td>\n",
       "      <td>American</td>\n",
       "      <td>12.95</td>\n",
       "      <td>79127</td>\n",
       "      <td>21:00-22:00</td>\n",
       "    </tr>\n",
       "    <tr>\n",
       "      <th>12226</th>\n",
       "      <td>12227</td>\n",
       "      <td>5368</td>\n",
       "      <td>2023-03-31</td>\n",
       "      <td>21:58:47</td>\n",
       "      <td>128.0</td>\n",
       "      <td>128.0</td>\n",
       "      <td>Cheese Lasagna</td>\n",
       "      <td>Italian</td>\n",
       "      <td>15.50</td>\n",
       "      <td>79127</td>\n",
       "      <td>21:00-22:00</td>\n",
       "    </tr>\n",
       "    <tr>\n",
       "      <th>12227</th>\n",
       "      <td>12228</td>\n",
       "      <td>5368</td>\n",
       "      <td>2023-03-31</td>\n",
       "      <td>21:58:47</td>\n",
       "      <td>113.0</td>\n",
       "      <td>113.0</td>\n",
       "      <td>Edamame</td>\n",
       "      <td>Asian</td>\n",
       "      <td>5.00</td>\n",
       "      <td>79127</td>\n",
       "      <td>21:00-22:00</td>\n",
       "    </tr>\n",
       "    <tr>\n",
       "      <th>12228</th>\n",
       "      <td>12229</td>\n",
       "      <td>5368</td>\n",
       "      <td>2023-03-31</td>\n",
       "      <td>21:58:47</td>\n",
       "      <td>118.0</td>\n",
       "      <td>118.0</td>\n",
       "      <td>Steak Burrito</td>\n",
       "      <td>Mexican</td>\n",
       "      <td>14.95</td>\n",
       "      <td>79127</td>\n",
       "      <td>21:00-22:00</td>\n",
       "    </tr>\n",
       "  </tbody>\n",
       "</table>\n",
       "<p>600 rows × 11 columns</p>\n",
       "</div>"
      ],
      "text/plain": [
       "       order_details_id  order_id order_date order_time  item_id  \\\n",
       "150                 151        65 2023-01-01   21:16:00    112.0   \n",
       "151                 152        65 2023-01-01   21:16:00    120.0   \n",
       "152                 153        65 2023-01-01   21:16:00    122.0   \n",
       "153                 154        65 2023-01-01   21:16:00    123.0   \n",
       "154                 155        66 2023-01-01   21:47:55    108.0   \n",
       "...                 ...       ...        ...        ...      ...   \n",
       "12224             12225      5367 2023-03-31   21:58:06    119.0   \n",
       "12225             12226      5368 2023-03-31   21:58:47    101.0   \n",
       "12226             12227      5368 2023-03-31   21:58:47    128.0   \n",
       "12227             12228      5368 2023-03-31   21:58:47    113.0   \n",
       "12228             12229      5368 2023-03-31   21:58:47    118.0   \n",
       "\n",
       "       menu_item_id          item_name  category  price  time_seconds  \\\n",
       "150           112.0        Salmon Roll     Asian  14.95         76560   \n",
       "151           120.0        Steak Torta   Mexican  13.95         76560   \n",
       "152           122.0      Chips & Salsa   Mexican   7.00         76560   \n",
       "153           123.0  Chips & Guacamole   Mexican   9.00         76560   \n",
       "154           108.0      Tofu Pad Thai     Asian  14.50         78475   \n",
       "...             ...                ...       ...    ...           ...   \n",
       "12224         119.0      Chicken Torta   Mexican  11.95         79086   \n",
       "12225         101.0          Hamburger  American  12.95         79127   \n",
       "12226         128.0     Cheese Lasagna   Italian  15.50         79127   \n",
       "12227         113.0            Edamame     Asian   5.00         79127   \n",
       "12228         118.0      Steak Burrito   Mexican  14.95         79127   \n",
       "\n",
       "       time_bucket  \n",
       "150    21:00-22:00  \n",
       "151    21:00-22:00  \n",
       "152    21:00-22:00  \n",
       "153    21:00-22:00  \n",
       "154    21:00-22:00  \n",
       "...            ...  \n",
       "12224  21:00-22:00  \n",
       "12225  21:00-22:00  \n",
       "12226  21:00-22:00  \n",
       "12227  21:00-22:00  \n",
       "12228  21:00-22:00  \n",
       "\n",
       "[600 rows x 11 columns]"
      ]
     },
     "execution_count": 70,
     "metadata": {},
     "output_type": "execute_result"
    }
   ],
   "source": [
    "merged_df[merged_df['time_bucket']== '21:00-22:00']"
   ]
  },
  {
   "cell_type": "code",
   "execution_count": 73,
   "id": "b262fa66",
   "metadata": {},
   "outputs": [
    {
     "data": {
      "image/png": "[encoded data removed]",
      "text/plain": [
       "<Figure size 1200x600 with 1 Axes>"
      ]
     },
     "metadata": {},
     "output_type": "display_data"
    }
   ],
   "source": [
    "plt.figure(figsize=(12, 6))\n",
    "plot_df = merged_df[['order_id','time_bucket']]\n",
    "sns.countplot(data=plot_df, x='time_bucket')\n",
    "plt.xticks(rotation=45)\n",
    "plt.tight_layout()       # Adjust layout to prevent clipping\n",
    "plt.show()"
   ]
  },
  {
   "cell_type": "code",
   "execution_count": null,
   "id": "99fcaa26",
   "metadata": {},
   "outputs": [
    {
     "data": {
      "text/plain": [
       "0"
      ]
     },
     "execution_count": 74,
     "metadata": {},
     "output_type": "execute_result"
    }
   ],
   "source": []
  },
  {
   "cell_type": "code",
   "execution_count": null,
   "id": "d8c48363",
   "metadata": {},
   "outputs": [],
   "source": []
  }
 ],
 "metadata": {
  "kernelspec": {
   "display_name": "Python 3",
   "language": "python",
   "name": "python3"
  },
  "language_info": {
   "codemirror_mode": {
    "name": "ipython",
    "version": 3
   },
   "file_extension": ".py",
   "mimetype": "text/x-python",
   "name": "python",
   "nbconvert_exporter": "python",
   "pygments_lexer": "ipython3",
   "version": "3.11.9"
  }
 },
 "nbformat": 4,
 "nbformat_minor": 5
}
